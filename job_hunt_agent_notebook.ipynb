{
 "cells": [
  {
   "cell_type": "markdown",
   "id": "e174434b",
   "metadata": {},
   "source": [
    "# 📄 Job Hunt Agent: Step-by-Step Notebook"
   ]
  },
  {
   "cell_type": "code",
   "execution_count": null,
   "id": "df5009ff",
   "metadata": {
    "ExecuteTime": {
     "end_time": "2025-05-07T14:38:48.650532Z",
     "start_time": "2025-05-07T14:38:48.516017Z"
    }
   },
   "outputs": [],
   "source": [
    "# Step 1: Parse CV\n",
    "from scripts import parse_cv\n",
    "parse_cv.main()"
   ]
  },
  {
   "cell_type": "code",
   "execution_count": null,
   "id": "806a8ec6",
   "metadata": {
    "ExecuteTime": {
     "end_time": "2025-05-07T14:38:52.202333Z",
     "start_time": "2025-05-07T14:38:49.516755Z"
    }
   },
   "outputs": [],
   "source": [
    "# Step 2: Suggest Roles\n",
    "from scripts import suggest_roles\n",
    "suggest_roles.main()"
   ]
  },
  {
   "cell_type": "code",
   "execution_count": null,
   "id": "d02aa0f2",
   "metadata": {
    "ExecuteTime": {
     "end_time": "2025-05-08T11:28:31.892956Z",
     "start_time": "2025-05-08T11:28:31.609288Z"
    },
    "scrolled": true
   },
   "outputs": [],
   "source": [
    "# Step 3: Scrape Jobs\n",
    "from scripts import scrape_jobs\n",
    "scrape_jobs.main()"
   ]
  },
  {
   "cell_type": "code",
   "execution_count": null,
   "id": "44bcc9b3",
   "metadata": {
    "ExecuteTime": {
     "end_time": "2025-05-08T11:30:21.922909Z",
     "start_time": "2025-05-08T11:30:21.896370Z"
    }
   },
   "outputs": [],
   "source": [
    "# Step 4: Deduplicate Jobs\n",
    "from scripts import deduplicate_jobs\n",
    "deduplicate_jobs.main()"
   ]
  },
  {
   "cell_type": "code",
   "execution_count": null,
   "id": "d2dccf94",
   "metadata": {
    "ExecuteTime": {
     "end_time": "2025-05-08T11:37:23.632876Z",
     "start_time": "2025-05-08T11:36:59.039044Z"
    }
   },
   "outputs": [],
   "source": [
    "# Step 5: Score Jobs by ATS\n",
    "from scripts import score_ats\n",
    "score_ats.score_ats()"
   ]
  },
  {
   "cell_type": "code",
   "execution_count": null,
   "id": "5db10723",
   "metadata": {
    "ExecuteTime": {
     "end_time": "2025-05-08T11:37:27.978378Z",
     "start_time": "2025-05-08T11:37:27.960696Z"
    }
   },
   "outputs": [],
   "source": [
    "import pandas as pd\n",
    "\n",
    "df = pd.read_csv(\"output/ats_ranked_jobs.csv\")\n",
    "df_sorted = df.sort_values(by=\"ats_score\", ascending=False)\n",
    "df_sorted"
   ]
  }
 ],
 "metadata": {
  "kernelspec": {
   "display_name": "Python 3 (ipykernel)",
   "language": "python",
   "name": "python3"
  },
  "language_info": {
   "codemirror_mode": {
    "name": "ipython",
    "version": 3
   },
   "file_extension": ".py",
   "mimetype": "text/x-python",
   "name": "python",
   "nbconvert_exporter": "python",
   "pygments_lexer": "ipython3",
   "version": "3.10.12"
  },
  "varInspector": {
   "cols": {
    "lenName": 16,
    "lenType": 16,
    "lenVar": 40
   },
   "kernels_config": {
    "python": {
     "delete_cmd_postfix": "",
     "delete_cmd_prefix": "del ",
     "library": "var_list.py",
     "varRefreshCmd": "print(var_dic_list())"
    },
    "r": {
     "delete_cmd_postfix": ") ",
     "delete_cmd_prefix": "rm(",
     "library": "var_list.r",
     "varRefreshCmd": "cat(var_dic_list()) "
    }
   },
   "types_to_exclude": [
    "module",
    "function",
    "builtin_function_or_method",
    "instance",
    "_Feature"
   ],
   "window_display": true
  }
 },
 "nbformat": 4,
 "nbformat_minor": 5
}
